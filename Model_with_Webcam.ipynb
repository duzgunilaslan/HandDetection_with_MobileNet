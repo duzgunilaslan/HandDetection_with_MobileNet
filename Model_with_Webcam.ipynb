{
 "cells": [
  {
   "cell_type": "code",
   "execution_count": 13,
   "id": "accompanied-thesis",
   "metadata": {},
   "outputs": [],
   "source": [
    "import numpy as np\n",
    "import os\n",
    "import tensorflow as tf\n",
    "import cv2\n",
    "from tensorflow import keras\n",
    "from tensorflow.keras import layers\n",
    "from tensorflow.keras.models import load_model"
   ]
  },
  {
   "cell_type": "code",
   "execution_count": 14,
   "id": "honest-photography",
   "metadata": {},
   "outputs": [],
   "source": [
    "model = keras.models.load_model('my_model/')"
   ]
  },
  {
   "cell_type": "code",
   "execution_count": 16,
   "id": "august-thickness",
   "metadata": {},
   "outputs": [],
   "source": [
    "class_names=['No','Yes']\n",
    "width = 160\n",
    "height = 160\n",
    "dim = (width, height)\n",
    "  \n",
    "# resize image\n",
    "\n",
    "#if use the webcam\n",
    "cap = cv2.VideoCapture(1)\n",
    "\n",
    "while(True):\n",
    "    # Capture frame-by-frame\n",
    "    ret, frame = cap.read()\n",
    "    # Our operations on the frame come here\n",
    "    resized = cv2.resize(frame, dim, interpolation =3)\n",
    "    \n",
    "    img_array = keras.preprocessing.image.img_to_array(resized)\n",
    "    img_array = tf.expand_dims(img_array, 0) # Create a batch\n",
    "\n",
    "    predictions = model.predict(img_array)\n",
    "    score = tf.nn.softmax(predictions[0])\n",
    "    \n",
    "    predictions = tf.nn.sigmoid(predictions)\n",
    "    predictions = tf.where(predictions < 0.5, 0, 1)\n",
    "\n",
    "    if predictions == 1:\n",
    "        label='Yes'\n",
    "        score = (100 * np.max(score))\n",
    "    else:\n",
    "        label='No'\n",
    "        score = (100 * np.max(score))\n",
    "        \n",
    "        \n",
    "    cv2.rectangle(frame, (630,60), (5, 450), (0, 255, 0), 2)\n",
    "    position = (15,50)\n",
    "    cv2.putText(\n",
    "    frame, #numpy array on which text is written\n",
    "    label+\" \"+str(score),#text    \n",
    "    position, #position at which writing has to start\n",
    "    cv2.FONT_HERSHEY_SIMPLEX, #font family\n",
    "    1, #font size\n",
    "    (0, 255, 0, 255), #font color\n",
    "    3) #font stroke\n",
    "    \n",
    "        \n",
    "    cv2.imshow('frame',frame) \n",
    "    \n",
    "    if cv2.waitKey(1) & 0xFF == ord('q'):\n",
    "        break\n",
    "\n",
    "# When everything done, release the capture\n",
    "cap.release()\n",
    "cv2.destroyAllWindows()"
   ]
  }
 ],
 "metadata": {
  "kernelspec": {
   "display_name": "Python 3",
   "language": "python",
   "name": "python3"
  },
  "language_info": {
   "codemirror_mode": {
    "name": "ipython",
    "version": 3
   },
   "file_extension": ".py",
   "mimetype": "text/x-python",
   "name": "python",
   "nbconvert_exporter": "python",
   "pygments_lexer": "ipython3",
   "version": "3.8.8"
  }
 },
 "nbformat": 4,
 "nbformat_minor": 5
}
